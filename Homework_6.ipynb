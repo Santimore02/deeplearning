# Paso 1: Importa las bibliotecas necesarias
import numpy as np
import pandas as pd
from tensorflow.keras.models import Sequential
from tensorflow.keras.layers import LSTM, Dense
from sklearn.preprocessing import MinMaxScaler
import matplotlib.pyplot as plt

# Paso 2: Carga y preprocesa el dataset

data = pd.read_csv('/content/jena_climate_2009_2016.csv')
temperature_data = data['T (degC)'].values

# Escalamiento de datos para mejorar el rendimiento del modelo
scaler = MinMaxScaler(feature_range=(0, 1))
temperature_data = scaler.fit_transform(temperature_data.reshape(-1, 1))

# Paso 3: Crea secuencias de datos para la serie temporal
def create_sequences(data, seq_length):
    x, y = [], []
    for i in range(len(data) - seq_length):
        x.append(data[i:i + seq_length])
        y.append(data[i + seq_length])
    return np.array(x), np.array(y)

# Define el tamaño de la ventana de tiempo (por ejemplo, 24 horas)
seq_length = 24
x, y = create_sequences(temperature_data, seq_length)

# División en conjunto de entrenamiento y prueba
split = int(len(x) * 0.8)
x_train, x_test = x[:split], x[split:]
y_train, y_test = y[:split], y[split:]

# Paso 4: Configuración y compilación del modelo LSTM con la métrica MAE
model = Sequential([
    LSTM(50, activation='relu', input_shape=(seq_length, 1)),
    Dense(1)
])
model.compile(optimizer='adam', loss='mse', metrics=['mae'])

# Paso 5: Entrenamiento del modelo (con model.fit)
history = model.fit(x_train, y_train, epochs=20, batch_size=32, validation_data=(x_test, y_test))

# Paso 6: Evaluación del modelo y cálculo de MAE en el conjunto de prueba
mae = model.evaluate(x_test, y_test, verbose=0)[1]
print(f'MAE en el conjunto de prueba: {mae}')

# Paso 7: Análisis gráfico de la pérdida y MAE durante el entrenamiento
plt.plot(history.history['loss'], label='Training Loss')
plt.plot(history.history['val_loss'], label='Validation Loss')
plt.plot(history.history['mae'], label='Training MAE')
plt.plot(history.history['val_mae'], label='Validation MAE')
plt.xlabel('Epoch')
plt.ylabel('Loss / MAE')
plt.legend()
plt.show()
